{
 "cells": [
  {
   "cell_type": "code",
   "execution_count": 1,
   "id": "4a16dd00",
   "metadata": {},
   "outputs": [],
   "source": [
    "import tensorflow as tf\n",
    "from keras.preprocessing.image import ImageDataGenerator"
   ]
  },
  {
   "cell_type": "markdown",
   "id": "04d724e2",
   "metadata": {},
   "source": [
    "## Data Preprocessing"
   ]
  },
  {
   "cell_type": "markdown",
   "id": "31d125e1",
   "metadata": {},
   "source": [
    "### Preprocessing Training Set"
   ]
  },
  {
   "cell_type": "code",
   "execution_count": 2,
   "id": "217f3d25",
   "metadata": {},
   "outputs": [
    {
     "name": "stdout",
     "output_type": "stream",
     "text": [
      "Found 8000 images belonging to 2 classes.\n"
     ]
    }
   ],
   "source": [
    "train_datagen = ImageDataGenerator(\n",
    "        rescale=1./255,\n",
    "        shear_range=0.2,\n",
    "        zoom_range=0.2,\n",
    "        horizontal_flip=True)\n",
    "\n",
    "training_set = train_datagen.flow_from_directory(\n",
    "        'dataset/training_set',\n",
    "        target_size=(64, 64),\n",
    "        batch_size=32,\n",
    "        class_mode='binary')\n",
    "\n"
   ]
  },
  {
   "cell_type": "markdown",
   "id": "4b1b73ca",
   "metadata": {},
   "source": [
    "### Preprocessing Test Set"
   ]
  },
  {
   "cell_type": "code",
   "execution_count": 3,
   "id": "570e3c87",
   "metadata": {},
   "outputs": [
    {
     "name": "stdout",
     "output_type": "stream",
     "text": [
      "Found 2000 images belonging to 2 classes.\n"
     ]
    }
   ],
   "source": [
    "test_datagen = ImageDataGenerator(rescale=1./255)\n",
    "\n",
    "test_set = test_datagen.flow_from_directory(\n",
    "        'dataset/test_set',\n",
    "        target_size=(64, 64),\n",
    "        batch_size=32,\n",
    "        class_mode='binary')"
   ]
  },
  {
   "cell_type": "markdown",
   "id": "71da9390",
   "metadata": {},
   "source": [
    "### Building CNN"
   ]
  },
  {
   "cell_type": "code",
   "execution_count": 9,
   "id": "fc734afa",
   "metadata": {},
   "outputs": [],
   "source": [
    "cnn = tf.keras.models.Sequential()\n",
    "\n",
    "## 1st Convolution Layer\n",
    "cnn.add(tf.keras.layers.Conv2D(filters = 32, kernel_size =(3,3), activation = 'relu', input_shape=(64,64,3)))\n",
    "## 1st Pooling layer\n",
    "cnn.add(tf.keras.layers.MaxPool2D(pool_size = (2,2), strides = 2))\n",
    "\n",
    "## 2nd Convolution Layer\n",
    "cnn.add(tf.keras.layers.Conv2D(filters = 32, kernel_size =3, activation = 'relu'))\n",
    "## 2nd Pooling layer\n",
    "cnn.add(tf.keras.layers.MaxPool2D(pool_size = (2,2), strides = 2))\n",
    "\n",
    "\n",
    "## Flattening\n",
    "cnn.add(tf.keras.layers.Flatten())"
   ]
  },
  {
   "cell_type": "markdown",
   "id": "176f3055",
   "metadata": {},
   "source": [
    "## Connecting Convolued Layers with NN"
   ]
  },
  {
   "cell_type": "code",
   "execution_count": 10,
   "id": "4dcea320",
   "metadata": {},
   "outputs": [],
   "source": [
    "cnn.add(tf.keras.layers.Dense( units=128 , activation = 'relu'))\n",
    "cnn.add(tf.keras.layers.Dense(units = 1, activation = 'sigmoid'))"
   ]
  },
  {
   "cell_type": "markdown",
   "id": "ab2fe2bd",
   "metadata": {},
   "source": [
    "### Training the CNN"
   ]
  },
  {
   "cell_type": "code",
   "execution_count": 13,
   "id": "dce5bc15",
   "metadata": {},
   "outputs": [],
   "source": [
    "cnn.compile(optimizer = 'adam', loss ='binary_crossentropy', metrics = ['accuracy'])"
   ]
  },
  {
   "cell_type": "code",
   "execution_count": 33,
   "id": "c54dafb3",
   "metadata": {},
   "outputs": [],
   "source": [
    "# early stopping\n",
    "import tensorflow as tf\n",
    "early_stopping = tf.keras.callbacks.EarlyStopping(\n",
    "    monitor=\"val_loss\",\n",
    "    min_delta=0.0001,\n",
    "    patience=20,\n",
    "    verbose=1,\n",
    "    mode=\"auto\",\n",
    "    baseline=None,\n",
    "    restore_best_weights=False,\n",
    ")\n",
    "     "
   ]
  },
  {
   "cell_type": "code",
   "execution_count": 34,
   "id": "97565c8c",
   "metadata": {},
   "outputs": [
    {
     "name": "stdout",
     "output_type": "stream",
     "text": [
      "Epoch 1/40\n",
      "250/250 [==============================] - 86s 344ms/step - loss: 0.2771 - accuracy: 0.8814 - val_loss: 0.5282 - val_accuracy: 0.8005\n",
      "Epoch 2/40\n",
      "250/250 [==============================] - 26s 102ms/step - loss: 0.2563 - accuracy: 0.8934 - val_loss: 0.5034 - val_accuracy: 0.8080\n",
      "Epoch 3/40\n",
      "250/250 [==============================] - 25s 101ms/step - loss: 0.2585 - accuracy: 0.8891 - val_loss: 0.5167 - val_accuracy: 0.8015\n",
      "Epoch 4/40\n",
      "250/250 [==============================] - 26s 102ms/step - loss: 0.2455 - accuracy: 0.8990 - val_loss: 0.5004 - val_accuracy: 0.8120\n",
      "Epoch 5/40\n",
      "250/250 [==============================] - 25s 102ms/step - loss: 0.2399 - accuracy: 0.9011 - val_loss: 0.5059 - val_accuracy: 0.8145\n",
      "Epoch 6/40\n",
      "250/250 [==============================] - 25s 102ms/step - loss: 0.2187 - accuracy: 0.9109 - val_loss: 0.5261 - val_accuracy: 0.8065\n",
      "Epoch 7/40\n",
      "250/250 [==============================] - 26s 102ms/step - loss: 0.2124 - accuracy: 0.9119 - val_loss: 0.5181 - val_accuracy: 0.8070\n",
      "Epoch 8/40\n",
      "250/250 [==============================] - 26s 103ms/step - loss: 0.2060 - accuracy: 0.9185 - val_loss: 0.5360 - val_accuracy: 0.8050\n",
      "Epoch 9/40\n",
      "250/250 [==============================] - 26s 103ms/step - loss: 0.1907 - accuracy: 0.9264 - val_loss: 0.5495 - val_accuracy: 0.8095\n",
      "Epoch 10/40\n",
      "250/250 [==============================] - 26s 102ms/step - loss: 0.1919 - accuracy: 0.9225 - val_loss: 0.5767 - val_accuracy: 0.8210\n",
      "Epoch 11/40\n",
      "250/250 [==============================] - 26s 102ms/step - loss: 0.1814 - accuracy: 0.9254 - val_loss: 0.6744 - val_accuracy: 0.7805\n",
      "Epoch 12/40\n",
      "250/250 [==============================] - 26s 102ms/step - loss: 0.1584 - accuracy: 0.9374 - val_loss: 0.6202 - val_accuracy: 0.8095\n",
      "Epoch 13/40\n",
      "250/250 [==============================] - 26s 102ms/step - loss: 0.1623 - accuracy: 0.9356 - val_loss: 0.6961 - val_accuracy: 0.7910\n",
      "Epoch 14/40\n",
      "250/250 [==============================] - 26s 102ms/step - loss: 0.1503 - accuracy: 0.9425 - val_loss: 0.5938 - val_accuracy: 0.8105\n",
      "Epoch 15/40\n",
      "250/250 [==============================] - 26s 102ms/step - loss: 0.1463 - accuracy: 0.9440 - val_loss: 0.7128 - val_accuracy: 0.7855\n",
      "Epoch 16/40\n",
      "250/250 [==============================] - 26s 103ms/step - loss: 0.1431 - accuracy: 0.9434 - val_loss: 0.6458 - val_accuracy: 0.8135\n",
      "Epoch 17/40\n",
      "250/250 [==============================] - 26s 102ms/step - loss: 0.1377 - accuracy: 0.9473 - val_loss: 0.7016 - val_accuracy: 0.7915\n",
      "Epoch 18/40\n",
      "250/250 [==============================] - 26s 102ms/step - loss: 0.1319 - accuracy: 0.9506 - val_loss: 0.6869 - val_accuracy: 0.7985\n",
      "Epoch 19/40\n",
      "250/250 [==============================] - 26s 102ms/step - loss: 0.1180 - accuracy: 0.9548 - val_loss: 0.6878 - val_accuracy: 0.8040\n",
      "Epoch 20/40\n",
      "250/250 [==============================] - 26s 102ms/step - loss: 0.1264 - accuracy: 0.9526 - val_loss: 0.7739 - val_accuracy: 0.7905\n",
      "Epoch 21/40\n",
      "250/250 [==============================] - 26s 102ms/step - loss: 0.1199 - accuracy: 0.9549 - val_loss: 0.7335 - val_accuracy: 0.8015\n",
      "Epoch 22/40\n",
      "250/250 [==============================] - 26s 103ms/step - loss: 0.1102 - accuracy: 0.9566 - val_loss: 0.7395 - val_accuracy: 0.8065\n",
      "Epoch 23/40\n",
      "250/250 [==============================] - 26s 105ms/step - loss: 0.1081 - accuracy: 0.9579 - val_loss: 0.7295 - val_accuracy: 0.8155\n",
      "Epoch 24/40\n",
      "250/250 [==============================] - 26s 104ms/step - loss: 0.1068 - accuracy: 0.9614 - val_loss: 0.7034 - val_accuracy: 0.8060\n",
      "Epoch 24: early stopping\n"
     ]
    },
    {
     "data": {
      "text/plain": [
       "<keras.callbacks.History at 0x1ab17ef0ca0>"
      ]
     },
     "execution_count": 34,
     "metadata": {},
     "output_type": "execute_result"
    }
   ],
   "source": [
    "cnn.fit(x = training_set, validation_data = test_set, epochs = 40, callbacks = early_stopping)"
   ]
  },
  {
   "cell_type": "code",
   "execution_count": 46,
   "id": "516b49b5",
   "metadata": {},
   "outputs": [
    {
     "name": "stdout",
     "output_type": "stream",
     "text": [
      "1/1 [==============================] - 0s 16ms/step\n"
     ]
    }
   ],
   "source": [
    "import numpy as np\n",
    "\n",
    "test_image = tf.keras.utils.load_img('dataset/single_prediction/4.jfif', target_size = (64,64))\n",
    "\n",
    "\n",
    "\n",
    "test_image = tf.keras.utils.img_to_array(test_image)\n",
    "test_image = np.expand_dims(test_image, axis = 0)  # Convert single image to a batch size 32.\n",
    "predictions = cnn.predict(test_image/ 255.0)\n",
    "\n",
    "training_set.class_indices\n",
    "\n",
    "if predictions[0][0] > 0.5:\n",
    "    predicted = 'dog'\n",
    "else:\n",
    "    predicted = 'cat'\n",
    "    \n"
   ]
  },
  {
   "cell_type": "code",
   "execution_count": 47,
   "id": "523810d3",
   "metadata": {},
   "outputs": [
    {
     "name": "stdout",
     "output_type": "stream",
     "text": [
      "dog\n"
     ]
    }
   ],
   "source": [
    "print(predicted)"
   ]
  },
  {
   "cell_type": "code",
   "execution_count": 43,
   "id": "bba4db04",
   "metadata": {},
   "outputs": [
    {
     "name": "stdout",
     "output_type": "stream",
     "text": [
      "0.9544819\n"
     ]
    }
   ],
   "source": [
    "print(predictions[0][0])"
   ]
  },
  {
   "cell_type": "code",
   "execution_count": null,
   "id": "cca370a3",
   "metadata": {},
   "outputs": [],
   "source": []
  }
 ],
 "metadata": {
  "kernelspec": {
   "display_name": "Python 3 (ipykernel)",
   "language": "python",
   "name": "python3"
  },
  "language_info": {
   "codemirror_mode": {
    "name": "ipython",
    "version": 3
   },
   "file_extension": ".py",
   "mimetype": "text/x-python",
   "name": "python",
   "nbconvert_exporter": "python",
   "pygments_lexer": "ipython3",
   "version": "3.9.7"
  }
 },
 "nbformat": 4,
 "nbformat_minor": 5
}
